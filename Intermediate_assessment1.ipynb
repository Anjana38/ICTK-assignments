{
  "nbformat": 4,
  "nbformat_minor": 0,
  "metadata": {
    "colab": {
      "provenance": []
    },
    "kernelspec": {
      "name": "python3",
      "display_name": "Python 3"
    },
    "language_info": {
      "name": "python"
    }
  },
  "cells": [
    {
      "cell_type": "markdown",
      "source": [
        "Q.no 1.1"
      ],
      "metadata": {
        "id": "7lOHSCd8-vdV"
      }
    },
    {
      "cell_type": "code",
      "execution_count": 30,
      "metadata": {
        "colab": {
          "base_uri": "https://localhost:8080/"
        },
        "id": "gnimsSGK-NtP",
        "outputId": "8e4fa907-bc05-4cfd-b5a3-88ced78cf81e"
      },
      "outputs": [
        {
          "output_type": "stream",
          "name": "stdout",
          "text": [
            "{'order_id': 1, 'customer': 'A', 'item': 'milk', 'quantity': 4, 'price_per_item': 28.5, 'order_date': '2025-10-01'}\n",
            "{'order_id': 2, 'customer': 'B', 'item': 'curd', 'quantity': 6, 'price_per_item': 39.0, 'order_date': '2025-10-02'}\n",
            "{'order_id': 3, 'customer': 'C', 'item': 'yogurt', 'quantity': 2, 'price_per_item': 15.0, 'order_date': '2025-10-03'}\n",
            "{'order_id': 4, 'customer': 'D', 'item': 'floor cleaner', 'quantity': 2, 'price_per_item': 240.0, 'order_date': '2025-10-05'}\n",
            "{'order_id': 5, 'customer': 'E', 'item': 'washing powder', 'quantity': 2, 'price_per_item': 75.0, 'order_date': '2025-10-06'}\n",
            "{'order_id': 6, 'customer': 'F', 'item': 'cooking oil', 'quantity': 4, 'price_per_item': 360.5, 'order_date': '2025-10-07'}\n",
            "{'order_id': 7, 'customer': 'G', 'item': 'coconut', 'quantity': 3, 'price_per_item': 55.0, 'order_date': '2025-10-08'}\n",
            "{'order_id': 8, 'customer': 'H', 'item': 'dry fruits', 'quantity': 2, 'price_per_item': 229.0, 'order_date': '2025-10-09'}\n",
            "{'order_id': 9, 'customer': 'I', 'item': 'cooking vessel', 'quantity': 7, 'price_per_item': 600.0, 'order_date': '2025-10-10'}\n",
            "{'order_id': 10, 'customer': 'J', 'item': 'remote controlled toy car', 'quantity': 1, 'price_per_item': 2010.0, 'order_date': '2025-10-11'}\n"
          ]
        }
      ],
      "source": [
        "sales_data = [\n",
        "    {'order_id':1, 'customer':'A', 'item':'milk', 'quantity':4,'price_per_item': 28.50,'order_date': '2025-10-01'},\n",
        "    {'order_id':2, 'customer':'B', 'item':'curd', 'quantity':6,'price_per_item': 39.00,'order_date': '2025-10-02'},\n",
        "    {'order_id':3, 'customer':'C', 'item':'yogurt', 'quantity':2,'price_per_item': 15.00,'order_date': '2025-10-03'},\n",
        "    {'order_id':4, 'customer':'D', 'item':'floor cleaner', 'quantity':2,'price_per_item': 240.00,'order_date': '2025-10-05'},\n",
        "    {'order_id':5, 'customer':'E', 'item':'washing powder', 'quantity':2,'price_per_item': 75.00,'order_date': '2025-10-06'},\n",
        "    {'order_id':6, 'customer':'F', 'item':'cooking oil', 'quantity':4,'price_per_item': 360.50,'order_date': '2025-10-07'},\n",
        "    {'order_id':7, 'customer':'G', 'item':'coconut', 'quantity':3,'price_per_item': 55.00,'order_date': '2025-10-08'},\n",
        "    {'order_id':8, 'customer':'H', 'item':'dry fruits', 'quantity':2,'price_per_item': 229.00,'order_date': '2025-10-09'},\n",
        "    {'order_id':9, 'customer':'I', 'item':'cooking vessel', 'quantity':7,'price_per_item': 600.00,'order_date': '2025-10-10'},\n",
        "    {'order_id':10, 'customer':'J', 'item':'remote controlled toy car', 'quantity':1,'price_per_item': 2010.00,'order_date': '2025-10-11'},\n",
        "\n",
        "]\n",
        "for sales in sales_data:\n",
        "  print(sales)"
      ]
    },
    {
      "cell_type": "markdown",
      "source": [
        "Q.no 2.1"
      ],
      "metadata": {
        "id": "bmUVt-3n_LTS"
      }
    },
    {
      "cell_type": "code",
      "source": [
        "total_revenue = 0\n",
        "for total in sales_data:\n",
        "  total_revenue += total['quantity']* total['price_per_item']\n",
        "print(f\"\\n 2.1 total revenue = ₹ {total_revenue}\")"
      ],
      "metadata": {
        "colab": {
          "base_uri": "https://localhost:8080/"
        },
        "id": "wBkye_Co_N9y",
        "outputId": "bb480f1a-67b8-45ec-c344-a539925591fe"
      },
      "execution_count": 31,
      "outputs": [
        {
          "output_type": "stream",
          "name": "stdout",
          "text": [
            "\n",
            " 2.1 total revenue = ₹ 9283.0\n"
          ]
        }
      ]
    },
    {
      "cell_type": "markdown",
      "source": [
        "2.2 Identify all orders where the total order value (quantity × price per item) exceeds ₹2,000. Store the result as a new list."
      ],
      "metadata": {
        "id": "yO7D84YdCjlN"
      }
    },
    {
      "cell_type": "code",
      "source": [
        "big_orders = [0]\n",
        "for order in sales_data:\n",
        "  order_value = order['quantity']* order['price_per_item']\n",
        "  print(order_value)\n",
        "  if order_value > 2000:\n",
        "\n",
        "    big_orders.append(order)\n",
        "print('\\n Orders which exceeds ₹ 2000')\n",
        "for order in big_orders:\n",
        "  print(order)"
      ],
      "metadata": {
        "colab": {
          "base_uri": "https://localhost:8080/"
        },
        "id": "NOidVsM2ClcQ",
        "outputId": "a288ab8d-0745-4bbd-ca91-0909720e30fb"
      },
      "execution_count": 32,
      "outputs": [
        {
          "output_type": "stream",
          "name": "stdout",
          "text": [
            "114.0\n",
            "234.0\n",
            "30.0\n",
            "480.0\n",
            "150.0\n",
            "1442.0\n",
            "165.0\n",
            "458.0\n",
            "4200.0\n",
            "2010.0\n",
            "\n",
            " Orders which exceeds ₹ 2000\n",
            "0\n",
            "{'order_id': 9, 'customer': 'I', 'item': 'cooking vessel', 'quantity': 7, 'price_per_item': 600.0, 'order_date': '2025-10-10'}\n",
            "{'order_id': 10, 'customer': 'J', 'item': 'remote controlled toy car', 'quantity': 1, 'price_per_item': 2010.0, 'order_date': '2025-10-11'}\n"
          ]
        }
      ]
    },
    {
      "cell_type": "markdown",
      "source": [
        "2.3 Find the item with the highest total quantity sold across all orders."
      ],
      "metadata": {
        "id": "rm3lDPEBD_fq"
      }
    },
    {
      "cell_type": "code",
      "source": [
        "item_totals = {}\n",
        "\n",
        "for order in sales_data:\n",
        "    item = order['item']\n",
        "    qty = order['quantity']\n",
        "    if item in item_totals:\n",
        "        item_totals[item] += qty\n",
        "    else:\n",
        "        item_totals[item] = qty\n",
        "# Find the item with max quantity sold\n",
        "max_item = None\n",
        "max_qty = 0\n",
        "for item, qty in item_totals.items():\n",
        "    if qty > max_qty:\n",
        "        max_qty = qty\n",
        "        max_item = item\n",
        "\n",
        "print(f\" Most sold item: {max_item} ({max_qty} units)\")"
      ],
      "metadata": {
        "colab": {
          "base_uri": "https://localhost:8080/"
        },
        "id": "ZnQcu73xEAw7",
        "outputId": "d708d2e9-bc2b-4744-e7d2-6024b4ffa664"
      },
      "execution_count": 36,
      "outputs": [
        {
          "output_type": "stream",
          "name": "stdout",
          "text": [
            " Most sold item: cooking vessel (7 units)\n"
          ]
        }
      ]
    },
    {
      "cell_type": "markdown",
      "source": [
        "3.2 Explain, with a code example in your script, the difference between local and global variable scope in Python."
      ],
      "metadata": {
        "id": "twPirBFeEWB_"
      }
    },
    {
      "cell_type": "markdown",
      "source": [
        "Global Variable : Declared outside the function and can be accessed any where in the program\n",
        "\n",
        "Local Variable : Declared inside a function and can be called within the function"
      ],
      "metadata": {
        "id": "LPZkN7TLEbfP"
      }
    },
    {
      "cell_type": "code",
      "source": [
        "x = 100  #global variable\n",
        "def show():\n",
        "  x = 50 # local variable\n",
        "\n",
        "  global y\n",
        "  y =500    # global variable\n",
        "  print(\"inside function\",x)\n",
        "\n",
        "show()\n",
        "print(\"outside function\",x)\n",
        "print(\"outside function\",y)"
      ],
      "metadata": {
        "colab": {
          "base_uri": "https://localhost:8080/"
        },
        "id": "kUvcqQV1EXPI",
        "outputId": "836ae5e2-eccd-4176-97bd-d90fcc8c1ce7"
      },
      "execution_count": 13,
      "outputs": [
        {
          "output_type": "stream",
          "name": "stdout",
          "text": [
            "inside function 50\n",
            "outside function 100\n",
            "outside function 500\n"
          ]
        }
      ]
    },
    {
      "cell_type": "markdown",
      "source": [
        "3.1"
      ],
      "metadata": {
        "id": "ykNeIBK7EwOv"
      }
    },
    {
      "cell_type": "code",
      "source": [
        "def apply_discount(orders,discount_rate):\n",
        "  discount_orders = []  #\n",
        "  for items in orders:\n",
        "    new_order = items.copy()\n",
        "\n",
        "    original_price = new_order['price_per_item']\n",
        "    print(\"the original prices is :\", original_price)\n",
        "    discounted_price = original_price * (1- discount_rate)\n",
        "    print(\"The discounted price is:\",discounted_price)\n",
        "    new_order['price_per_item'] = discounted_price\n",
        "    discount_orders.append(new_order)\n",
        "  return discount_orders\n",
        "\n",
        "orders = [ {'item': 'cooking vessel',  'price_per_item': 600.0, },\n",
        "{ 'item': 'remote controlled toy car', 'price_per_item': 2010.0, }\n",
        "\n",
        "]\n",
        "\n",
        "discounted_orders = apply_discount(orders, 0.10)\n",
        "print(\"\\n Original orders\")\n",
        "for i in orders:\n",
        "  print(i)\n",
        "print(\"\\n Discounted orders\")\n",
        "for i in discounted_orders:\n",
        "  print(i)"
      ],
      "metadata": {
        "colab": {
          "base_uri": "https://localhost:8080/"
        },
        "id": "uI9dDinlFJNQ",
        "outputId": "0fc8f32e-e4d2-4006-f3c7-3d1d4fad6396"
      },
      "execution_count": 35,
      "outputs": [
        {
          "output_type": "stream",
          "name": "stdout",
          "text": [
            "the original prices is : 600.0\n",
            "The discounted price is: 540.0\n",
            "the original prices is : 2010.0\n",
            "The discounted price is: 1809.0\n",
            "\n",
            " Original orders\n",
            "{'item': 'cooking vessel', 'price_per_item': 600.0}\n",
            "{'item': 'remote controlled toy car', 'price_per_item': 2010.0}\n",
            "\n",
            " Discounted orders\n",
            "{'item': 'cooking vessel', 'price_per_item': 540.0}\n",
            "{'item': 'remote controlled toy car', 'price_per_item': 1809.0}\n"
          ]
        }
      ]
    },
    {
      "cell_type": "markdown",
      "source": [
        "4.1"
      ],
      "metadata": {
        "id": "Apf93N3iOuwS"
      }
    },
    {
      "cell_type": "code",
      "source": [
        "class OrderIterator:\n",
        "  def__init__(self, orders):\n",
        "    self.orders = orders\n"
      ],
      "metadata": {
        "colab": {
          "base_uri": "https://localhost:8080/",
          "height": 106
        },
        "id": "w7FyZVOzOwAq",
        "outputId": "8dc93aed-7ec9-491f-f140-8e17f4dc5980"
      },
      "execution_count": 40,
      "outputs": [
        {
          "output_type": "error",
          "ename": "SyntaxError",
          "evalue": "invalid syntax (ipython-input-2050799644.py, line 2)",
          "traceback": [
            "\u001b[0;36m  File \u001b[0;32m\"/tmp/ipython-input-2050799644.py\"\u001b[0;36m, line \u001b[0;32m2\u001b[0m\n\u001b[0;31m    def__init__(self, orders):\u001b[0m\n\u001b[0m                             ^\u001b[0m\n\u001b[0;31mSyntaxError\u001b[0m\u001b[0;31m:\u001b[0m invalid syntax\n"
          ]
        }
      ]
    }
  ]
}